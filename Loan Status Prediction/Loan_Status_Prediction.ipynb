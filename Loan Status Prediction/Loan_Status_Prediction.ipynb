{
 "cells": [
  {
   "cell_type": "markdown",
   "metadata": {},
   "source": [
    "# Loan Status Prediction"
   ]
  },
  {
   "cell_type": "markdown",
   "metadata": {},
   "source": [
    "Importing the library"
   ]
  },
  {
   "cell_type": "code",
   "execution_count": null,
   "metadata": {},
   "outputs": [],
   "source": [
    "# Importing necessary libraries\n",
    "import pandas as pd\n",
    "import numpy as np\n",
    "from matplotlib import pyplot as plt\n",
    "import seaborn as sns\n",
    "from sklearn.model_selection import train_test_split\n",
    "from sklearn import svm\n",
    "from sklearn.metrics import accuracy_score,confusion_matrix"
   ]
  },
  {
   "cell_type": "markdown",
   "metadata": {},
   "source": [
    "Read The Dataset"
   ]
  },
  {
   "cell_type": "code",
   "execution_count": null,
   "metadata": {},
   "outputs": [],
   "source": [
    "# Loading the dataset\n",
    "loan_df=pd.read_csv(\"O:/Projects/Loan Status Prediction/train_u6lujuX_CVtuZ9i (1).csv\")\n",
    "# Displaying the first few rows of the dataset\n",
    "loan_df.head()"
   ]
  },
  {
   "cell_type": "code",
   "execution_count": null,
   "metadata": {},
   "outputs": [],
   "source": [
    "# Checking the shape of the dataset\n",
    "loan_df.shape"
   ]
  },
  {
   "cell_type": "markdown",
   "metadata": {},
   "source": [
    "\n",
    "\n",
    "1. **Gender**: Indicates the gender of the applicant.\n",
    "\n",
    "2. **Married**: Specifies whether the applicant is married or not.\n",
    "\n",
    "3. **Dependents**: Refers to the number of dependents (such as children, elderly parents) the applicant has. This helps assess the applicant's financial obligations and ability to repay the loan.\n",
    "\n",
    "4. **Education**: Indicates the educational qualifications of the applicant. Education level can correlate with income and financial literacy, which are factors in loan eligibility.\n",
    "\n",
    "5. **Self_Employed**: Indicates whether the applicant is self-employed or not. Self-employment status can affect the stability of income and may influence loan eligibility criteria.\n",
    "\n",
    "6. **ApplicantIncome**: Represents the income of the primary applicant. This is a key factor in determining loan eligibility as it reflects the applicant's ability to repay the loan.\n",
    "\n",
    "7. **CoapplicantIncome**: Represents the income of the co-applicant, if any. Co-applicant income can supplement the primary applicant's income and affect the total household income considered for loan eligibility.\n",
    "\n",
    "8. **LoanAmount**: Denotes the amount of loan applied for by the applicant. This is the principal amount that the applicant is seeking to borrow.\n",
    "\n",
    "9. **Loan_Amount_Term**: Specifies the term or duration of the loan in months. This is the period over which the loan is expected to be repaid.\n",
    "\n",
    "10. **Credit_History**: Indicates the credit history of the applicant, whether they have a history of repaying debts on time. A positive credit history enhances loan eligibility, while a negative history may result in rejection.\n",
    "\n",
    "11. **Property_Area**: Specifies the location or area where the applicant's property is located. Property location can impact loan eligibility due to factors such as property value and market conditions.\n",
    "\n",
    "12. **Loan_Status**: Represents whether the loan application was approved or not. This is the target variable for prediction, based on the applicant's details and other factors, to determine loan eligibility."
   ]
  },
  {
   "cell_type": "markdown",
   "metadata": {},
   "source": [
    "Data Preprocessing"
   ]
  },
  {
   "cell_type": "code",
   "execution_count": null,
   "metadata": {},
   "outputs": [],
   "source": [
    "# Checking for missing values in the dataset\n",
    "loan_df.isnull().sum()"
   ]
  },
  {
   "cell_type": "code",
   "execution_count": null,
   "metadata": {},
   "outputs": [],
   "source": [
    "# Generating descriptive statistics for numerical columns\n",
    "loan_df.describe()"
   ]
  },
  {
   "cell_type": "markdown",
   "metadata": {},
   "source": [
    "Handling missing values:"
   ]
  },
  {
   "cell_type": "code",
   "execution_count": null,
   "metadata": {},
   "outputs": [],
   "source": [
    "# Categorical columns with missing values are filled with the mode value of each column\n",
    "categorical_col_with_nan = ['Gender', 'Married', 'Dependents', 'Self_Employed']\n",
    "for col in categorical_col_with_nan:\n",
    "    loan_df[col].fillna(loan_df[col].mode()[0], inplace=True)\n",
    "\n",
    "# Numerical columns with missing values are filled with the mean value of each column\n",
    "numerical_col_with_nan = ['LoanAmount', 'Loan_Amount_Term', 'Credit_History']\n",
    "for col in numerical_col_with_nan:\n",
    "    loan_df[col].fillna(loan_df[col].mean(), inplace=True)"
   ]
  },
  {
   "cell_type": "code",
   "execution_count": null,
   "metadata": {},
   "outputs": [],
   "source": [
    "#Rechecking for missing values and shape of the dataset after imputation\n",
    "print(loan_df.isnull().sum())\n",
    "print(loan_df.shape)"
   ]
  },
  {
   "cell_type": "markdown",
   "metadata": {},
   "source": [
    "Data Visualization"
   ]
  },
  {
   "cell_type": "code",
   "execution_count": null,
   "metadata": {},
   "outputs": [],
   "source": [
    "# Counting the number of loan approvals and rejections\n",
    "people_approve_or_not = loan_df['Loan_Status'].value_counts()\n",
    "\n",
    "\n",
    "# Plotting the pie chart\n",
    "plt.figure(figsize=(8,6))\n",
    "labels = ['Yes', 'No']\n",
    "plt.pie(people_approve_or_not, labels=labels, colors=['Green','Red'], autopct='%1.2f%%')\n",
    "plt.title('Loan Approval Status')\n",
    "plt.show()\n"
   ]
  },
  {
   "cell_type": "code",
   "execution_count": null,
   "metadata": {},
   "outputs": [],
   "source": [
    "# Plotting a distribution plot for Loan Amount with hue based on Loan Status\n",
    "plt.figure(figsize=(8,6))\n",
    "\n",
    "sns.displot(x='LoanAmount',hue='Loan_Status',data=loan_df)\n",
    "plt.xlabel('Loan Amount')\n",
    "plt.ylabel('Count')\n",
    "plt.show()"
   ]
  },
  {
   "cell_type": "code",
   "execution_count": null,
   "metadata": {},
   "outputs": [],
   "source": [
    "# Plotting a distribution plot for Applicant Income with hue based on Loan Status\n",
    "plt.figure(figsize=(8,6))\n",
    "\n",
    "sns.displot(x='ApplicantIncome',hue='Loan_Status',data=loan_df)\n",
    "plt.xlabel('Loan Amount')\n",
    "plt.ylabel('Count')\n",
    "plt.show()"
   ]
  },
  {
   "cell_type": "code",
   "execution_count": null,
   "metadata": {},
   "outputs": [],
   "source": [
    "# Plotting a count plot for Gender with hue based on Loan Status\n",
    "plt.figure(figsize=(8,6))\n",
    "\n",
    "sns.countplot(x='Gender',hue='Loan_Status',data=loan_df)\n",
    "plt.title(\"Count of Gender Based on Loan Status\")\n",
    "plt.legend(title='Loan Status', labels=['Approved', 'Not Approved'])\n",
    "plt.show()"
   ]
  },
  {
   "cell_type": "code",
   "execution_count": null,
   "metadata": {},
   "outputs": [],
   "source": [
    "# Plotting a count plot for Married with hue based on Loan Status\n",
    "plt.figure(figsize=(8,6))\n",
    "\n",
    "sns.countplot(x='Married', hue='Loan_Status', data=loan_df)\n",
    "plt.title(\"Count of Married Based on Loan Status\")\n",
    "plt.legend(title='Loan Status', labels=['Approved', 'Not Approved'])\n",
    "plt.show()\n"
   ]
  },
  {
   "cell_type": "code",
   "execution_count": null,
   "metadata": {},
   "outputs": [],
   "source": [
    "# Plotting a count plot for Dependents with hue based on Loan Status\n",
    "plt.figure(figsize=(8,6))\n",
    "\n",
    "sns.countplot(x='Dependents', hue='Loan_Status', data=loan_df)\n",
    "plt.title(\"Count of Dependents Based on Loan Status\")\n",
    "plt.legend(title='Loan Status', labels=['Approved', 'Not Approved'])\n",
    "plt.show()\n"
   ]
  },
  {
   "cell_type": "code",
   "execution_count": null,
   "metadata": {},
   "outputs": [],
   "source": [
    "# Plotting a count plot for Self Employed with hue based on Loan Status\n",
    "plt.figure(figsize=(8,6))\n",
    "\n",
    "sns.countplot(x='Self_Employed', hue='Loan_Status', data=loan_df)\n",
    "plt.title(\"Count of Self Employed Based on Loan Status\")\n",
    "plt.legend(title='Loan Status', labels=['Approved', 'Not Approved'])\n",
    "plt.show()\n"
   ]
  },
  {
   "cell_type": "code",
   "execution_count": null,
   "metadata": {},
   "outputs": [],
   "source": [
    "loan_df.head()"
   ]
  },
  {
   "cell_type": "markdown",
   "metadata": {},
   "source": [
    "Converting the categorial valuesinto numeric values for machine learning model"
   ]
  },
  {
   "cell_type": "code",
   "execution_count": null,
   "metadata": {},
   "outputs": [],
   "source": [
    "# Replacing categorical values with numerical representations in the loan dataframe\n",
    "\n",
    "loan_df.replace({'Gender':{'Male':1,'Female':0}},inplace=True)\n",
    "loan_df.replace({'Married':{'Yes':1,'No':0}},inplace=True)\n",
    "loan_df.replace({'Education':{'Graduate':1,'Not Graduate':0}},inplace=True)\n",
    "loan_df.replace({'Self_Employed':{'Yes':1,'No':0}},inplace=True)\n",
    "loan_df.replace({'Property_Area':{'Rural':0,'Urban':2,'Semiurban':1}},inplace=True)\n",
    "loan_df.replace({'Loan_Status':{'Y':1,'N':0}},inplace=True)"
   ]
  },
  {
   "cell_type": "code",
   "execution_count": null,
   "metadata": {},
   "outputs": [],
   "source": [
    "# Replacing 'Dependents' values with numerical representation\n",
    "loan_df['Dependents'].replace(to_replace='3+',value=4,inplace=True)"
   ]
  },
  {
   "cell_type": "code",
   "execution_count": null,
   "metadata": {},
   "outputs": [],
   "source": [
    "# Checking the counts of 'Dependents' values after replacement\n",
    "loan_df['Dependents'].value_counts()"
   ]
  },
  {
   "cell_type": "code",
   "execution_count": null,
   "metadata": {},
   "outputs": [],
   "source": [
    "# Displaying the first few rows of the loan dataframe after replacement\n",
    "loan_df.head()"
   ]
  },
  {
   "cell_type": "markdown",
   "metadata": {},
   "source": [
    "Separate independent and dependent variables"
   ]
  },
  {
   "cell_type": "code",
   "execution_count": null,
   "metadata": {},
   "outputs": [],
   "source": [
    "# Separating features (x) and target (y) from the loan dataframe\n",
    "x=loan_df.drop(['Loan_ID','Loan_Status'],axis=1)\n",
    "y=loan_df['Loan_Status']"
   ]
  },
  {
   "cell_type": "code",
   "execution_count": null,
   "metadata": {},
   "outputs": [],
   "source": [
    "x.head()"
   ]
  },
  {
   "cell_type": "code",
   "execution_count": null,
   "metadata": {},
   "outputs": [],
   "source": [
    "y.head()"
   ]
  },
  {
   "cell_type": "markdown",
   "metadata": {},
   "source": [
    "Spliting dataset in training data and testing data"
   ]
  },
  {
   "cell_type": "code",
   "execution_count": null,
   "metadata": {},
   "outputs": [],
   "source": [
    "# Splitting the dataset into training and testing sets with a test size of 20%\n",
    "X_train,X_test,Y_train,Y_test=train_test_split(x,y,test_size=0.2,stratify=y,random_state=2)\n",
    "\n",
    "print(x.shape,X_train.shape,X_test.shape)"
   ]
  },
  {
   "cell_type": "markdown",
   "metadata": {},
   "source": [
    "Training The Model:\n",
    "\n",
    "\n",
    "\n",
    "\n",
    "\n",
    "Support Vector Machine Model for Classification"
   ]
  },
  {
   "cell_type": "code",
   "execution_count": null,
   "metadata": {},
   "outputs": [],
   "source": [
    "# Making predictions on the training set using the trained classifier\n",
    "classifier=svm.SVC(kernel='linear')\n",
    "\n",
    "# Training the model\n",
    "classifier.fit(X_train,Y_train)"
   ]
  },
  {
   "cell_type": "markdown",
   "metadata": {},
   "source": [
    "Model Evaluation\n",
    "\n",
    "\n",
    "\n",
    "Accuracy on training data"
   ]
  },
  {
   "cell_type": "code",
   "execution_count": null,
   "metadata": {},
   "outputs": [],
   "source": [
    "# Calculating the accuracy of the model on the training data\n",
    "X_train_predition=classifier.predict(X_train)\n",
    "training_accuracy=accuracy_score(X_train_predition,Y_train)\n",
    "\n",
    "print('Accuracy on training data:',training_accuracy*100)"
   ]
  },
  {
   "cell_type": "markdown",
   "metadata": {},
   "source": [
    "***Model is not overfitted***"
   ]
  },
  {
   "cell_type": "markdown",
   "metadata": {},
   "source": [
    "Model Evaluation\n",
    "\n",
    "\n",
    "\n",
    "Accuracy on testing data"
   ]
  },
  {
   "cell_type": "code",
   "execution_count": null,
   "metadata": {},
   "outputs": [],
   "source": [
    "# Calculating the accuracy of the model on the testing data\n",
    "X_test_predition=classifier.predict(X_test)\n",
    "testing_accuracy=accuracy_score(X_test_predition,Y_test)\n",
    "\n",
    "print('Accuracy on training data:',testing_accuracy*100)"
   ]
  },
  {
   "cell_type": "code",
   "execution_count": null,
   "metadata": {},
   "outputs": [],
   "source": [
    "cm_testing=confusion_matrix(X_test_predition,Y_test)\n",
    "\n",
    "cm_testing"
   ]
  },
  {
   "cell_type": "markdown",
   "metadata": {},
   "source": [
    "**Making a Predict System**"
   ]
  },
  {
   "cell_type": "code",
   "execution_count": null,
   "metadata": {},
   "outputs": [],
   "source": [
    "# Male-1,\tYes- 1,\t1,\tGraduate-1\tNo-0,\t5649,\t0,\t44,\t360,\t1,\tUrban-2\n",
    "\n",
    "# Defining input data for prediction\n",
    "input_data = (1, 1, 1, 1, 0, 5649, 0, 44, 360, 1, 2)\n",
    "\n",
    "# Changing the input data to a numpy array\n",
    "input_data_as_numpy_array = np.asarray(input_data)\n",
    "\n",
    "# Reshaping the numpy array as we are predicting for one instance or example\n",
    "input_data_reshaped = input_data_as_numpy_array.reshape(1, -1)\n",
    "\n",
    "# Making predictions on the input data\n",
    "prediction = classifier.predict(input_data_reshaped)\n",
    "print(prediction)\n",
    "\n",
    "# Checking the prediction and providing an appropriate message\n",
    "if prediction[0] == 0:\n",
    "    print('The person is not eligible for a loan.')\n",
    "else:\n",
    "    print('The person is eligible for a loan.')\n"
   ]
  }
 ],
 "metadata": {
  "kernelspec": {
   "display_name": "Python 3",
   "language": "python",
   "name": "python3"
  },
  "language_info": {
   "codemirror_mode": {
    "name": "ipython",
    "version": 3
   },
   "file_extension": ".py",
   "mimetype": "text/x-python",
   "name": "python",
   "nbconvert_exporter": "python",
   "pygments_lexer": "ipython3",
   "version": "3.11.4"
  }
 },
 "nbformat": 4,
 "nbformat_minor": 2
}
